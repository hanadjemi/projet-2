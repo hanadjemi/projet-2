{
 "cells": [
  {
   "cell_type": "code",
   "execution_count": 1,
   "metadata": {},
   "outputs": [],
   "source": [
    "from math import sqrt"
   ]
  },
  {
   "cell_type": "markdown",
   "metadata": {},
   "source": [
    "premier() retourne la liste de tous les nombres premiers présent dans l'interval fourni"
   ]
  },
  {
   "cell_type": "code",
   "execution_count": 2,
   "metadata": {},
   "outputs": [],
   "source": [
    "def premier(a,b):\n",
    "    p = []\n",
    "\n",
    "    for i in range( max(a,2) , b):\n",
    "        for j in range(2, int(sqrt(i))+1 ) :\n",
    "            if i%j == 0 :\n",
    "                break\n",
    "        else :\n",
    "            p.append(i)\n",
    "    return set(p)"
   ]
  },
  {
   "cell_type": "markdown",
   "metadata": {},
   "source": [
    "combinaison() se charge de créer la liste de tout les sous-ensemble possible de l'interval sauf l'ensemble vide"
   ]
  },
  {
   "cell_type": "code",
   "execution_count": 3,
   "metadata": {},
   "outputs": [],
   "source": [
    "def combinaison(a) :\n",
    "    combo = [ [] ]\n",
    "    \n",
    "    for i in a :\n",
    "        for sub_set in combo :\n",
    "            combo = combo + [list(sub_set)+[i]]\n",
    "    \n",
    "    return combo[1:]"
   ]
  },
  {
   "cell_type": "code",
   "execution_count": 4,
   "metadata": {},
   "outputs": [],
   "source": [
    "def C(a, b):\n",
    "    if type(a) != int or type(b) != int :\n",
    "        print('Veillez entrer des chiffres')\n",
    "        return\n",
    "\n",
    "    if a > b or min(a, b) < 0 :\n",
    "        print(\"L'interval fourni est non valide\")\n",
    "        return\n",
    "\n",
    "    interval = set( range(a, b+1) )\n",
    "    \n",
    "    # Pruning des éléments non necessaire\n",
    "    if b > 2*a :\n",
    "        interval = interval - premier(a*2, b)\n",
    "\n",
    "    else :\n",
    "        p = premier(b-a, a)\n",
    "\n",
    "        for i in p :\n",
    "            if b//i != i :\n",
    "                interval = interval - set( [(b//i)*i] )\n",
    "\n",
    "        interval = interval - premier(a+1, b+1)\n",
    "\n",
    "    interval = list(interval)\n",
    "    sous_ensemble = combinaison(interval)\n",
    "\n",
    "    #test des sous ensemble\n",
    "    total = 0\n",
    "    \n",
    "    for i in sous_ensemble :\n",
    "        produit = 1\n",
    "\n",
    "        for j in i :\n",
    "            produit = produit*j\n",
    "\n",
    "        if sqrt(produit)%1 == 0 :\n",
    "            total = total + 1\n",
    "\n",
    "    print( \"Nombre de carrées parfais issus du produit des éléments des sous-ensembles de l'interval\",(a, b) ,\"=\", total )"
   ]
  },
  {
   "cell_type": "code",
   "execution_count": 5,
   "metadata": {},
   "outputs": [
    {
     "name": "stdout",
     "output_type": "stream",
     "text": [
      "Nombre de carrées parfais issus du produit des éléments des sous-ensembles de l'interval (40, 55) = 15\n"
     ]
    }
   ],
   "source": [
    "C(40,55)"
   ]
  }
 ],
 "metadata": {
  "kernelspec": {
   "display_name": "Python 3",
   "language": "python",
   "name": "python3"
  },
  "language_info": {
   "codemirror_mode": {
    "name": "ipython",
    "version": 3
   },
   "file_extension": ".py",
   "mimetype": "text/x-python",
   "name": "python",
   "nbconvert_exporter": "python",
   "pygments_lexer": "ipython3",
   "version": "3.6.4"
  }
 },
 "nbformat": 4,
 "nbformat_minor": 2
}
